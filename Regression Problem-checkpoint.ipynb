{
 "cells": [
  {
   "cell_type": "code",
   "execution_count": 1,
   "id": "0f8ca47a",
   "metadata": {},
   "outputs": [],
   "source": [
    "import warnings\n",
    "warnings.filterwarnings('ignore')\n",
    "import pandas as pd\n",
    "import numpy as np\n",
    "import matplotlib.pyplot as plt\n",
    "import seaborn as sns\n",
    "\n",
    "pd.set_option(\"display.max_columns\", None)\n",
    "pd.set_option(\"display.max_rows\", None)\n",
    "%matplotlib inline"
   ]
  },
  {
   "cell_type": "code",
   "execution_count": 2,
   "id": "cd0d4d01",
   "metadata": {},
   "outputs": [],
   "source": [
    "data = pd.read_csv('car_scrape.csv')"
   ]
  },
  {
   "cell_type": "code",
   "execution_count": 3,
   "id": "1ee79366",
   "metadata": {},
   "outputs": [
    {
     "data": {
      "text/html": [
       "<div>\n",
       "<style scoped>\n",
       "    .dataframe tbody tr th:only-of-type {\n",
       "        vertical-align: middle;\n",
       "    }\n",
       "\n",
       "    .dataframe tbody tr th {\n",
       "        vertical-align: top;\n",
       "    }\n",
       "\n",
       "    .dataframe thead th {\n",
       "        text-align: right;\n",
       "    }\n",
       "</style>\n",
       "<table border=\"1\" class=\"dataframe\">\n",
       "  <thead>\n",
       "    <tr style=\"text-align: right;\">\n",
       "      <th></th>\n",
       "      <th>title</th>\n",
       "      <th>odometer</th>\n",
       "      <th>location</th>\n",
       "      <th>isimported</th>\n",
       "      <th>engine</th>\n",
       "      <th>transmission</th>\n",
       "      <th>fuel</th>\n",
       "      <th>paint</th>\n",
       "      <th>price</th>\n",
       "      <th>year</th>\n",
       "    </tr>\n",
       "  </thead>\n",
       "  <tbody>\n",
       "    <tr>\n",
       "      <th>0</th>\n",
       "      <td>Toyota Corolla</td>\n",
       "      <td>60127</td>\n",
       "      <td>Lagos</td>\n",
       "      <td>Locally used</td>\n",
       "      <td>4-cylinder(I4)</td>\n",
       "      <td>automatic</td>\n",
       "      <td>petrol</td>\n",
       "      <td>Silver</td>\n",
       "      <td>1995000</td>\n",
       "      <td>2009</td>\n",
       "    </tr>\n",
       "    <tr>\n",
       "      <th>1</th>\n",
       "      <td>Acura MDX</td>\n",
       "      <td>132908</td>\n",
       "      <td>Lagos</td>\n",
       "      <td>Foreign Used</td>\n",
       "      <td>6-cylinder(V6)</td>\n",
       "      <td>automatic</td>\n",
       "      <td>petrol</td>\n",
       "      <td>Whine</td>\n",
       "      <td>3315000</td>\n",
       "      <td>2009</td>\n",
       "    </tr>\n",
       "    <tr>\n",
       "      <th>2</th>\n",
       "      <td>Lexus ES 350</td>\n",
       "      <td>120412</td>\n",
       "      <td>Lagos</td>\n",
       "      <td>Locally used</td>\n",
       "      <td>6-cylinder(V6)</td>\n",
       "      <td>automatic</td>\n",
       "      <td>petrol</td>\n",
       "      <td>Silver</td>\n",
       "      <td>2655000</td>\n",
       "      <td>2008</td>\n",
       "    </tr>\n",
       "    <tr>\n",
       "      <th>3</th>\n",
       "      <td>Mercedes-Benz GLK 350</td>\n",
       "      <td>67640</td>\n",
       "      <td>Lagos</td>\n",
       "      <td>Foreign Used</td>\n",
       "      <td>4-cylinder(I4)</td>\n",
       "      <td>automatic</td>\n",
       "      <td>petrol</td>\n",
       "      <td>Black</td>\n",
       "      <td>9015000</td>\n",
       "      <td>2013</td>\n",
       "    </tr>\n",
       "    <tr>\n",
       "      <th>4</th>\n",
       "      <td>Mercedes-Benz E 200</td>\n",
       "      <td>92440</td>\n",
       "      <td>Abuja</td>\n",
       "      <td>Foreign Used</td>\n",
       "      <td>4-cylinder(I4)</td>\n",
       "      <td>automatic</td>\n",
       "      <td>petrol</td>\n",
       "      <td>Black</td>\n",
       "      <td>5790000</td>\n",
       "      <td>2013</td>\n",
       "    </tr>\n",
       "  </tbody>\n",
       "</table>\n",
       "</div>"
      ],
      "text/plain": [
       "                   title  odometer location    isimported          engine  \\\n",
       "0         Toyota Corolla     60127    Lagos  Locally used  4-cylinder(I4)   \n",
       "1              Acura MDX    132908    Lagos  Foreign Used  6-cylinder(V6)   \n",
       "2           Lexus ES 350    120412    Lagos  Locally used  6-cylinder(V6)   \n",
       "3  Mercedes-Benz GLK 350     67640    Lagos  Foreign Used  4-cylinder(I4)   \n",
       "4    Mercedes-Benz E 200     92440    Abuja  Foreign Used  4-cylinder(I4)   \n",
       "\n",
       "  transmission    fuel   paint    price  year  \n",
       "0    automatic  petrol  Silver  1995000  2009  \n",
       "1    automatic  petrol  Whine   3315000  2009  \n",
       "2    automatic  petrol  Silver  2655000  2008  \n",
       "3    automatic  petrol   Black  9015000  2013  \n",
       "4    automatic  petrol   Black  5790000  2013  "
      ]
     },
     "execution_count": 3,
     "metadata": {},
     "output_type": "execute_result"
    }
   ],
   "source": [
    "data.head()"
   ]
  },
  {
   "cell_type": "code",
   "execution_count": 4,
   "id": "37849edd",
   "metadata": {},
   "outputs": [
    {
     "name": "stdout",
     "output_type": "stream",
     "text": [
      "<class 'pandas.core.frame.DataFrame'>\n",
      "RangeIndex: 1451 entries, 0 to 1450\n",
      "Data columns (total 10 columns):\n",
      " #   Column        Non-Null Count  Dtype \n",
      "---  ------        --------------  ----- \n",
      " 0   title         1451 non-null   object\n",
      " 1   odometer      1451 non-null   int64 \n",
      " 2   location      1451 non-null   object\n",
      " 3   isimported    1451 non-null   object\n",
      " 4   engine        1451 non-null   object\n",
      " 5   transmission  1451 non-null   object\n",
      " 6   fuel          1451 non-null   object\n",
      " 7   paint         1451 non-null   object\n",
      " 8   price         1451 non-null   int64 \n",
      " 9   year          1451 non-null   int64 \n",
      "dtypes: int64(3), object(7)\n",
      "memory usage: 113.5+ KB\n"
     ]
    }
   ],
   "source": [
    "data.info()"
   ]
  },
  {
   "cell_type": "markdown",
   "id": "fa4ed42e",
   "metadata": {},
   "source": [
    "### EDA, Data Cleaning & Data Preprocessing"
   ]
  },
  {
   "cell_type": "markdown",
   "id": "3ebaebe4",
   "metadata": {},
   "source": [
    "#### Location"
   ]
  },
  {
   "cell_type": "code",
   "execution_count": 5,
   "id": "ce6adb56",
   "metadata": {
    "scrolled": false
   },
   "outputs": [
    {
     "data": {
      "text/plain": [
       "array(['Lagos', 'Abuja', 'Lagos ', 'Ogun', 'Lagos State', 'Adamawa ',\n",
       "       'other', 'Abia State', 'Arepo ogun state ', 'Ogun State', 'Abuja ',\n",
       "       'Abia', 'FCT', 'Accra', 'Mushin'], dtype=object)"
      ]
     },
     "execution_count": 5,
     "metadata": {},
     "output_type": "execute_result"
    }
   ],
   "source": [
    "data['location'].unique()"
   ]
  },
  {
   "cell_type": "code",
   "execution_count": 6,
   "id": "fd60af96",
   "metadata": {},
   "outputs": [],
   "source": [
    "# data['location'].value_counts()"
   ]
  },
  {
   "cell_type": "code",
   "execution_count": 7,
   "id": "c81a434e",
   "metadata": {},
   "outputs": [],
   "source": [
    "# Regroup location\n",
    "data['location'] = np.where(data['location'].isin(['Lagos','Lagos ','Lagos State','Mushin']),'Lagos',\n",
    "                   np.where(data['location'].isin(['Abuja','Abuja ','FCT']), 'Abuja',\n",
    "                   np.where(data['location'].isin(['Ogun','Arepo ogun state ','Ogun State']), 'Ogun',\n",
    "                    'Others')))"
   ]
  },
  {
   "cell_type": "code",
   "execution_count": 8,
   "id": "5286c5bf",
   "metadata": {},
   "outputs": [
    {
     "data": {
      "text/plain": [
       "array(['Lagos', 'Abuja', 'Ogun', 'Others'], dtype=object)"
      ]
     },
     "execution_count": 8,
     "metadata": {},
     "output_type": "execute_result"
    }
   ],
   "source": [
    "data['location'].unique()"
   ]
  },
  {
   "cell_type": "code",
   "execution_count": 9,
   "id": "fdf3bb36",
   "metadata": {},
   "outputs": [
    {
     "data": {
      "text/plain": [
       "Lagos     1186\n",
       "Abuja      218\n",
       "Ogun        37\n",
       "Others      10\n",
       "Name: location, dtype: int64"
      ]
     },
     "execution_count": 9,
     "metadata": {},
     "output_type": "execute_result"
    }
   ],
   "source": [
    "data['location'].value_counts()"
   ]
  },
  {
   "cell_type": "code",
   "execution_count": 10,
   "id": "b2379774",
   "metadata": {},
   "outputs": [
    {
     "data": {
      "image/png": "[encoded data removed]",
      "text/plain": [
       "<Figure size 864x432 with 1 Axes>"
      ]
     },
     "metadata": {
      "needs_background": "light"
     },
     "output_type": "display_data"
    }
   ],
   "source": [
    "plt.figure(figsize=(12,6))\n",
    "plots = sns.countplot(x=data['location'])\n",
    "plots.set_title('Location Count')\n",
    "for bar in plots.patches:\n",
    "    plots.annotate(format(bar.get_height(), '.0f'),  \n",
    "                       (bar.get_x() + bar.get_width() / 2,  \n",
    "                        bar.get_height()), ha='center', va='center', \n",
    "                       size=10, xytext=(0, 5), \n",
    "                       textcoords='offset points')"
   ]
  },
  {
   "cell_type": "code",
   "execution_count": 11,
   "id": "2e5d94e6",
   "metadata": {
    "scrolled": false
   },
   "outputs": [
    {
     "data": {
      "image/png": "[encoded data removed]",
      "text/plain": [
       "<Figure size 864x432 with 1 Axes>"
      ]
     },
     "metadata": {
      "needs_background": "light"
     },
     "output_type": "display_data"
    }
   ],
   "source": [
    "# Check location distribution with price\n",
    "plt.figure(figsize=(12,6))\n",
    "sns.boxplot(x=data['price'], y=data['location']);"
   ]
  },
  {
   "cell_type": "markdown",
   "id": "115a3eff",
   "metadata": {},
   "source": [
    "#### Imported"
   ]
  },
  {
   "cell_type": "code",
   "execution_count": 12,
   "id": "105dc257",
   "metadata": {},
   "outputs": [
    {
     "data": {
      "image/png": "[encoded data removed]",
      "text/plain": [
       "<Figure size 864x432 with 1 Axes>"
      ]
     },
     "metadata": {
      "needs_background": "light"
     },
     "output_type": "display_data"
    }
   ],
   "source": [
    "plt.figure(figsize=(12,6))\n",
    "plots = sns.countplot(x=data['isimported'], hue=data['location'],)\n",
    "for bar in plots.patches:\n",
    "    plots.annotate(format(bar.get_height(), '.0f'),  \n",
    "                       (bar.get_x() + bar.get_width() / 2,  \n",
    "                        bar.get_height()), ha='center', va='center', \n",
    "                       size=10, xytext=(0, 5), \n",
    "                       textcoords='offset points')\n",
    "    "
   ]
  },
  {
   "cell_type": "code",
   "execution_count": 13,
   "id": "a50374bf",
   "metadata": {
    "scrolled": false
   },
   "outputs": [
    {
     "data": {
      "image/png": "[encoded data removed]",
      "text/plain": [
       "<Figure size 864x432 with 1 Axes>"
      ]
     },
     "metadata": {
      "needs_background": "light"
     },
     "output_type": "display_data"
    }
   ],
   "source": [
    "plt.figure(figsize=(12,6))\n",
    "sns.boxplot(x=data['isimported'], y=data['price']);"
   ]
  },
  {
   "cell_type": "markdown",
   "id": "54dfd050",
   "metadata": {},
   "source": [
    "#### Engine"
   ]
  },
  {
   "cell_type": "code",
   "execution_count": 14,
   "id": "92fe6ab6",
   "metadata": {},
   "outputs": [
    {
     "data": {
      "text/plain": [
       "4-cylinder(I4)      896\n",
       "6-cylinder(V6)      311\n",
       "6-cylinder(I6)      162\n",
       "8-cylinder(V8)       70\n",
       "3-cylinder(I3)        4\n",
       "5-cylinder(I5)        3\n",
       "2-cylinder(I2)        2\n",
       "4-cylinder(H4)        2\n",
       "12-cylinder(V12)      1\n",
       "Name: engine, dtype: int64"
      ]
     },
     "execution_count": 14,
     "metadata": {},
     "output_type": "execute_result"
    }
   ],
   "source": [
    "data['engine'].value_counts()"
   ]
  },
  {
   "cell_type": "code",
   "execution_count": 15,
   "id": "d59e67ba",
   "metadata": {},
   "outputs": [],
   "source": [
    "# Regroup engine\n",
    "data['engine'] = np.where(data['engine'].isin(['3-cylinder(I3)','5-cylinder(I5)','2-cylinder(I2)','4-cylinder(H4)','12-cylinder(V12)']),'Others',\n",
    "                    data['engine'])"
   ]
  },
  {
   "cell_type": "code",
   "execution_count": 16,
   "id": "83ee13cd",
   "metadata": {
    "scrolled": false
   },
   "outputs": [
    {
     "data": {
      "image/png": "[encoded data removed]",
      "text/plain": [
       "<Figure size 864x432 with 1 Axes>"
      ]
     },
     "metadata": {
      "needs_background": "light"
     },
     "output_type": "display_data"
    }
   ],
   "source": [
    "plt.figure(figsize=(12,6))\n",
    "plots = sns.countplot(x=data['engine'],)\n",
    "for bar in plots.patches:\n",
    "    plots.annotate(format(bar.get_height(), '.0f'),  \n",
    "                       (bar.get_x() + bar.get_width() / 2,  \n",
    "                        bar.get_height()), ha='center', va='center', \n",
    "                       size=10, xytext=(0, 5), \n",
    "                       textcoords='offset points')\n",
    "    \n",
    "plots.set_xticklabels(plots.get_xticklabels(),rotation=45,horizontalalignment='right');"
   ]
  },
  {
   "cell_type": "code",
   "execution_count": 17,
   "id": "391b1a54",
   "metadata": {
    "scrolled": false
   },
   "outputs": [
    {
     "data": {
      "image/png": "[encoded data removed]",
      "text/plain": [
       "<Figure size 864x432 with 1 Axes>"
      ]
     },
     "metadata": {
      "needs_background": "light"
     },
     "output_type": "display_data"
    }
   ],
   "source": [
    "# Car Engines and the price distribution\n",
    "plt.figure(figsize=(12,6))\n",
    "plots = sns.boxplot(x=data['engine'], y=data['price']);\n",
    "plots.set_xticklabels(plots.get_xticklabels(),rotation=45,horizontalalignment='right');"
   ]
  },
  {
   "cell_type": "markdown",
   "id": "9243983a",
   "metadata": {},
   "source": [
    "#### Transmission Type"
   ]
  },
  {
   "cell_type": "code",
   "execution_count": 18,
   "id": "2be62d76",
   "metadata": {},
   "outputs": [
    {
     "data": {
      "text/plain": [
       "automatic    1379\n",
       "manual         72\n",
       "Name: transmission, dtype: int64"
      ]
     },
     "execution_count": 18,
     "metadata": {},
     "output_type": "execute_result"
    }
   ],
   "source": [
    "data['transmission'].value_counts()"
   ]
  },
  {
   "cell_type": "code",
   "execution_count": 19,
   "id": "0bed5ad4",
   "metadata": {},
   "outputs": [
    {
     "data": {
      "image/png": "[encoded data removed]",
      "text/plain": [
       "<Figure size 864x432 with 1 Axes>"
      ]
     },
     "metadata": {
      "needs_background": "light"
     },
     "output_type": "display_data"
    }
   ],
   "source": [
    "plt.figure(figsize=(12,6))\n",
    "plots = sns.countplot(x=data['transmission'],)\n",
    "for bar in plots.patches:\n",
    "    plots.annotate(format(bar.get_height(), '.0f'),  \n",
    "                       (bar.get_x() + bar.get_width() / 2,  \n",
    "                        bar.get_height()), ha='center', va='center', \n",
    "                       size=10, xytext=(0, 5), \n",
    "                       textcoords='offset points')"
   ]
  },
  {
   "cell_type": "code",
   "execution_count": 20,
   "id": "797e1c1a",
   "metadata": {
    "scrolled": false
   },
   "outputs": [
    {
     "data": {
      "image/png": "[encoded data removed]",
      "text/plain": [
       "<Figure size 864x432 with 1 Axes>"
      ]
     },
     "metadata": {
      "needs_background": "light"
     },
     "output_type": "display_data"
    }
   ],
   "source": [
    "# Price distribution of car transmission type\n",
    "plt.figure(figsize=(12,6))\n",
    "sns.boxplot(x=data['transmission'], y=data['price'], hue=data['engine']);"
   ]
  },
  {
   "cell_type": "markdown",
   "id": "01fd7d5a",
   "metadata": {},
   "source": [
    "#### Fuel Type"
   ]
  },
  {
   "cell_type": "code",
   "execution_count": 21,
   "id": "78a923a9",
   "metadata": {},
   "outputs": [
    {
     "data": {
      "image/png": "[encoded data removed]",
      "text/plain": [
       "<Figure size 864x432 with 1 Axes>"
      ]
     },
     "metadata": {
      "needs_background": "light"
     },
     "output_type": "display_data"
    }
   ],
   "source": [
    "plt.figure(figsize=(12,6))\n",
    "plots = sns.countplot(x=data['fuel'],)\n",
    "for bar in plots.patches:\n",
    "    plots.annotate(format(bar.get_height(), '.0f'),  \n",
    "                       (bar.get_x() + bar.get_width() / 2,  \n",
    "                        bar.get_height()), ha='center', va='center', \n",
    "                       size=10, xytext=(0, 5), \n",
    "                       textcoords='offset points')"
   ]
  },
  {
   "cell_type": "code",
   "execution_count": 22,
   "id": "6ae64be8",
   "metadata": {
    "scrolled": false
   },
   "outputs": [
    {
     "data": {
      "image/png": "[encoded data removed]",
      "text/plain": [
       "<Figure size 864x432 with 1 Axes>"
      ]
     },
     "metadata": {
      "needs_background": "light"
     },
     "output_type": "display_data"
    }
   ],
   "source": [
    "plt.figure(figsize=(12,6))\n",
    "sns.boxplot(x=data['fuel'], y=data['price']);"
   ]
  },
  {
   "cell_type": "code",
   "execution_count": 23,
   "id": "649feb59",
   "metadata": {},
   "outputs": [],
   "source": [
    "### Do some feature engineering here by regrouing a column to create a new one\n",
    "# Regroup year to have a better view of year of production \n",
    "data['year_made'] = np.where(data['year']<2000, 'Before year 2000',\n",
    "                    np.where(data['year'].between(2000,2010), '2000-2010',\n",
    "                    np.where(data['year'].between(2011,2020), '2011-2020', '>2020')))"
   ]
  },
  {
   "cell_type": "code",
   "execution_count": 24,
   "id": "80fc9de6",
   "metadata": {},
   "outputs": [
    {
     "data": {
      "text/plain": [
       "2000-2010           709\n",
       "2011-2020           689\n",
       "Before year 2000     52\n",
       ">2020                 1\n",
       "Name: year_made, dtype: int64"
      ]
     },
     "execution_count": 24,
     "metadata": {},
     "output_type": "execute_result"
    }
   ],
   "source": [
    "data['year_made'].value_counts()"
   ]
  },
  {
   "cell_type": "code",
   "execution_count": 25,
   "id": "cd49bbb3",
   "metadata": {},
   "outputs": [
    {
     "data": {
      "image/png": "[encoded data removed]",
      "text/plain": [
       "<Figure size 864x432 with 1 Axes>"
      ]
     },
     "metadata": {
      "needs_background": "light"
     },
     "output_type": "display_data"
    }
   ],
   "source": [
    "plt.figure(figsize=(12,6))\n",
    "sns.boxplot(x=data['year_made'], y=data['price']);"
   ]
  },
  {
   "cell_type": "code",
   "execution_count": 26,
   "id": "d4394f4e",
   "metadata": {},
   "outputs": [
    {
     "data": {
      "image/png": "[encoded data removed]",
      "text/plain": [
       "<Figure size 864x432 with 1 Axes>"
      ]
     },
     "metadata": {
      "needs_background": "light"
     },
     "output_type": "display_data"
    }
   ],
   "source": [
    "# Relationship between odometer and car price\n",
    "plt.figure(figsize=(12,6))\n",
    "sns.scatterplot(x=data['odometer'], y=data['price']);"
   ]
  },
  {
   "cell_type": "code",
   "execution_count": null,
   "id": "e129cd3d",
   "metadata": {},
   "outputs": [],
   "source": []
  },
  {
   "cell_type": "markdown",
   "id": "4e071a64",
   "metadata": {},
   "source": [
    "### Further Data Preprocessing"
   ]
  },
  {
   "cell_type": "code",
   "execution_count": 27,
   "id": "4fa4ea35",
   "metadata": {},
   "outputs": [],
   "source": [
    "## Split data into categorical and numerical "
   ]
  },
  {
   "cell_type": "code",
   "execution_count": 28,
   "id": "f7c14d3b",
   "metadata": {},
   "outputs": [],
   "source": [
    "cat_data = data.select_dtypes(include='object')\n",
    "num_data = data.select_dtypes(include='integer')"
   ]
  },
  {
   "cell_type": "code",
   "execution_count": 29,
   "id": "9d4225a2",
   "metadata": {},
   "outputs": [
    {
     "data": {
      "text/html": [
       "<div>\n",
       "<style scoped>\n",
       "    .dataframe tbody tr th:only-of-type {\n",
       "        vertical-align: middle;\n",
       "    }\n",
       "\n",
       "    .dataframe tbody tr th {\n",
       "        vertical-align: top;\n",
       "    }\n",
       "\n",
       "    .dataframe thead th {\n",
       "        text-align: right;\n",
       "    }\n",
       "</style>\n",
       "<table border=\"1\" class=\"dataframe\">\n",
       "  <thead>\n",
       "    <tr style=\"text-align: right;\">\n",
       "      <th></th>\n",
       "      <th>title</th>\n",
       "      <th>location</th>\n",
       "      <th>isimported</th>\n",
       "      <th>engine</th>\n",
       "      <th>transmission</th>\n",
       "      <th>fuel</th>\n",
       "      <th>paint</th>\n",
       "      <th>year_made</th>\n",
       "    </tr>\n",
       "  </thead>\n",
       "  <tbody>\n",
       "    <tr>\n",
       "      <th>732</th>\n",
       "      <td>Toyota Avalon</td>\n",
       "      <td>Lagos</td>\n",
       "      <td>Foreign Used</td>\n",
       "      <td>4-cylinder(I4)</td>\n",
       "      <td>automatic</td>\n",
       "      <td>petrol</td>\n",
       "      <td>Silver</td>\n",
       "      <td>2011-2020</td>\n",
       "    </tr>\n",
       "  </tbody>\n",
       "</table>\n",
       "</div>"
      ],
      "text/plain": [
       "             title location    isimported          engine transmission  \\\n",
       "732  Toyota Avalon    Lagos  Foreign Used  4-cylinder(I4)    automatic   \n",
       "\n",
       "       fuel   paint  year_made  \n",
       "732  petrol  Silver  2011-2020  "
      ]
     },
     "execution_count": 29,
     "metadata": {},
     "output_type": "execute_result"
    }
   ],
   "source": [
    "cat_data.sample(1)"
   ]
  },
  {
   "cell_type": "code",
   "execution_count": 30,
   "id": "12c755b3",
   "metadata": {},
   "outputs": [
    {
     "data": {
      "text/html": [
       "<div>\n",
       "<style scoped>\n",
       "    .dataframe tbody tr th:only-of-type {\n",
       "        vertical-align: middle;\n",
       "    }\n",
       "\n",
       "    .dataframe tbody tr th {\n",
       "        vertical-align: top;\n",
       "    }\n",
       "\n",
       "    .dataframe thead th {\n",
       "        text-align: right;\n",
       "    }\n",
       "</style>\n",
       "<table border=\"1\" class=\"dataframe\">\n",
       "  <thead>\n",
       "    <tr style=\"text-align: right;\">\n",
       "      <th></th>\n",
       "      <th>odometer</th>\n",
       "      <th>price</th>\n",
       "      <th>year</th>\n",
       "    </tr>\n",
       "  </thead>\n",
       "  <tbody>\n",
       "    <tr>\n",
       "      <th>1355</th>\n",
       "      <td>101523</td>\n",
       "      <td>12615000</td>\n",
       "      <td>2014</td>\n",
       "    </tr>\n",
       "  </tbody>\n",
       "</table>\n",
       "</div>"
      ],
      "text/plain": [
       "      odometer     price  year\n",
       "1355    101523  12615000  2014"
      ]
     },
     "execution_count": 30,
     "metadata": {},
     "output_type": "execute_result"
    }
   ],
   "source": [
    "num_data.sample(1)"
   ]
  },
  {
   "cell_type": "markdown",
   "id": "0813e4ab",
   "metadata": {},
   "source": [
    "#### Preprocess Numerical Data"
   ]
  },
  {
   "cell_type": "code",
   "execution_count": 31,
   "id": "9407b194",
   "metadata": {},
   "outputs": [
    {
     "data": {
      "text/html": [
       "<div>\n",
       "<style scoped>\n",
       "    .dataframe tbody tr th:only-of-type {\n",
       "        vertical-align: middle;\n",
       "    }\n",
       "\n",
       "    .dataframe tbody tr th {\n",
       "        vertical-align: top;\n",
       "    }\n",
       "\n",
       "    .dataframe thead th {\n",
       "        text-align: right;\n",
       "    }\n",
       "</style>\n",
       "<table border=\"1\" class=\"dataframe\">\n",
       "  <thead>\n",
       "    <tr style=\"text-align: right;\">\n",
       "      <th></th>\n",
       "      <th>count</th>\n",
       "      <th>mean</th>\n",
       "      <th>std</th>\n",
       "      <th>min</th>\n",
       "      <th>25%</th>\n",
       "      <th>50%</th>\n",
       "      <th>75%</th>\n",
       "      <th>max</th>\n",
       "    </tr>\n",
       "  </thead>\n",
       "  <tbody>\n",
       "    <tr>\n",
       "      <th>odometer</th>\n",
       "      <td>1451.0</td>\n",
       "      <td>1.168021e+05</td>\n",
       "      <td>1.158419e+05</td>\n",
       "      <td>0.0</td>\n",
       "      <td>53338.0</td>\n",
       "      <td>92919.0</td>\n",
       "      <td>152769.5</td>\n",
       "      <td>1775588.0</td>\n",
       "    </tr>\n",
       "    <tr>\n",
       "      <th>price</th>\n",
       "      <td>1451.0</td>\n",
       "      <td>8.431088e+06</td>\n",
       "      <td>1.308960e+07</td>\n",
       "      <td>400000.0</td>\n",
       "      <td>2615000.0</td>\n",
       "      <td>4215000.0</td>\n",
       "      <td>8865000.0</td>\n",
       "      <td>167015008.0</td>\n",
       "    </tr>\n",
       "    <tr>\n",
       "      <th>year</th>\n",
       "      <td>1451.0</td>\n",
       "      <td>2.008594e+03</td>\n",
       "      <td>3.920429e+01</td>\n",
       "      <td>1217.0</td>\n",
       "      <td>2006.0</td>\n",
       "      <td>2010.0</td>\n",
       "      <td>2014.0</td>\n",
       "      <td>2626.0</td>\n",
       "    </tr>\n",
       "  </tbody>\n",
       "</table>\n",
       "</div>"
      ],
      "text/plain": [
       "           count          mean           std       min        25%        50%  \\\n",
       "odometer  1451.0  1.168021e+05  1.158419e+05       0.0    53338.0    92919.0   \n",
       "price     1451.0  8.431088e+06  1.308960e+07  400000.0  2615000.0  4215000.0   \n",
       "year      1451.0  2.008594e+03  3.920429e+01    1217.0     2006.0     2010.0   \n",
       "\n",
       "                75%          max  \n",
       "odometer   152769.5    1775588.0  \n",
       "price     8865000.0  167015008.0  \n",
       "year         2014.0       2626.0  "
      ]
     },
     "execution_count": 31,
     "metadata": {},
     "output_type": "execute_result"
    }
   ],
   "source": [
    "## Check descriptive statistcs \n",
    "num_data.describe().T"
   ]
  },
  {
   "cell_type": "code",
   "execution_count": 32,
   "id": "9648f819",
   "metadata": {},
   "outputs": [
    {
     "name": "stdout",
     "output_type": "stream",
     "text": [
      "(90th): 17130000.0\n",
      "(10th): 1615000.0\n"
     ]
    }
   ],
   "source": [
    "print('(90th):', np.percentile(data['price'], 90))\n",
    "print('(10th):', np.percentile(data['price'], 10))"
   ]
  },
  {
   "cell_type": "markdown",
   "id": "3d203f73",
   "metadata": {},
   "source": [
    "#### Handle Outliers"
   ]
  },
  {
   "cell_type": "code",
   "execution_count": 33,
   "id": "c98b228f",
   "metadata": {
    "scrolled": false
   },
   "outputs": [],
   "source": [
    "def handle_outliers(df, feat, lower_percentile = 10, upper_percentile=90):\n",
    "    '''\n",
    "    Outliers affects models performance. Instead of dropping outliers,\n",
    "    They are capped at 10th percentile for samples below the 10th percentile and\n",
    "    90th percentile for samples above the 90th percentile.\n",
    "    \n",
    "    Few samples are expected to be above and below these percentiles which represent the outliers. \n",
    "    \n",
    "    Note: you can specify your own percentile based on the the data distribution.\n",
    "    \n",
    "    '''\n",
    "    df[feat] = np.where(df[feat] > np.percentile(df[feat], upper_percentile), np.percentile(df[feat], upper_percentile),\n",
    "               np.where(df[feat] < np.percentile(df[feat], lower_percentile), np.percentile(df[feat], lower_percentile), df[feat]))        "
   ]
  },
  {
   "cell_type": "code",
   "execution_count": 34,
   "id": "5eedfaf5",
   "metadata": {},
   "outputs": [],
   "source": [
    "handle_outliers(data, 'price',)"
   ]
  },
  {
   "cell_type": "code",
   "execution_count": 35,
   "id": "d6473e2b",
   "metadata": {
    "scrolled": false
   },
   "outputs": [
    {
     "data": {
      "text/plain": [
       "count    1.451000e+03\n",
       "mean     6.399377e+06\n",
       "std      5.058731e+06\n",
       "min      1.615000e+06\n",
       "25%      2.615000e+06\n",
       "50%      4.215000e+06\n",
       "75%      8.865000e+06\n",
       "max      1.713000e+07\n",
       "Name: price, dtype: float64"
      ]
     },
     "execution_count": 35,
     "metadata": {},
     "output_type": "execute_result"
    }
   ],
   "source": [
    "data['price'].describe()"
   ]
  },
  {
   "cell_type": "code",
   "execution_count": 36,
   "id": "c91b203e",
   "metadata": {
    "scrolled": false
   },
   "outputs": [
    {
     "data": {
      "text/plain": [
       "<AxesSubplot:xlabel='price'>"
      ]
     },
     "execution_count": 36,
     "metadata": {},
     "output_type": "execute_result"
    },
    {
     "data": {
      "image/png": "[encoded data removed]",
      "text/plain": [
       "<Figure size 864x432 with 1 Axes>"
      ]
     },
     "metadata": {
      "needs_background": "light"
     },
     "output_type": "display_data"
    }
   ],
   "source": [
    "plt.figure(figsize=(12,6))\n",
    "sns.boxenplot(x = data['price'])"
   ]
  },
  {
   "cell_type": "code",
   "execution_count": 37,
   "id": "ccbf1c8f",
   "metadata": {},
   "outputs": [],
   "source": [
    "handle_outliers(data, 'odometer',)"
   ]
  },
  {
   "cell_type": "code",
   "execution_count": 38,
   "id": "e1007607",
   "metadata": {
    "scrolled": false
   },
   "outputs": [
    {
     "data": {
      "text/plain": [
       "<AxesSubplot:xlabel='odometer'>"
      ]
     },
     "execution_count": 38,
     "metadata": {},
     "output_type": "execute_result"
    },
    {
     "data": {
      "image/png": "[encoded data removed]",
      "text/plain": [
       "<Figure size 864x432 with 1 Axes>"
      ]
     },
     "metadata": {
      "needs_background": "light"
     },
     "output_type": "display_data"
    }
   ],
   "source": [
    "plt.figure(figsize=(12,6))\n",
    "sns.boxenplot(x = num_data['odometer'])"
   ]
  },
  {
   "cell_type": "code",
   "execution_count": 39,
   "id": "2e32011c",
   "metadata": {},
   "outputs": [
    {
     "data": {
      "image/png": "[encoded data removed]",
      "text/plain": [
       "<Figure size 864x432 with 1 Axes>"
      ]
     },
     "metadata": {
      "needs_background": "light"
     },
     "output_type": "display_data"
    }
   ],
   "source": [
    "plt.figure(figsize=(12,6))\n",
    "sns.boxplot(x=data['year_made'], y=data['price']);"
   ]
  },
  {
   "cell_type": "code",
   "execution_count": 40,
   "id": "99f26bbf",
   "metadata": {
    "scrolled": false
   },
   "outputs": [
    {
     "data": {
      "image/png": "[encoded data removed]",
      "text/plain": [
       "<Figure size 864x432 with 1 Axes>"
      ]
     },
     "metadata": {
      "needs_background": "light"
     },
     "output_type": "display_data"
    }
   ],
   "source": [
    "plt.figure(figsize=(12,6))\n",
    "sns.boxplot(x=data['price'], y=data['location']);"
   ]
  },
  {
   "cell_type": "code",
   "execution_count": 41,
   "id": "d144ae40",
   "metadata": {},
   "outputs": [
    {
     "data": {
      "image/png": "[encoded data removed]",
      "text/plain": [
       "<Figure size 864x432 with 1 Axes>"
      ]
     },
     "metadata": {
      "needs_background": "light"
     },
     "output_type": "display_data"
    }
   ],
   "source": [
    "plt.figure(figsize=(12,6))\n",
    "sns.boxplot(x=data['transmission'], y=data['price'], hue=data['engine']);"
   ]
  },
  {
   "cell_type": "code",
   "execution_count": null,
   "id": "1c1e4414",
   "metadata": {},
   "outputs": [],
   "source": []
  },
  {
   "cell_type": "markdown",
   "id": "4dac2c1d",
   "metadata": {},
   "source": [
    "#### SPlit the Data into train and test"
   ]
  },
  {
   "cell_type": "code",
   "execution_count": 42,
   "id": "70430ae7",
   "metadata": {},
   "outputs": [],
   "source": [
    "from sklearn.model_selection import train_test_split"
   ]
  },
  {
   "cell_type": "code",
   "execution_count": 43,
   "id": "25006cd2",
   "metadata": {},
   "outputs": [],
   "source": [
    "X = data.drop(['price', 'title', 'paint', 'year_made'], axis =1)\n",
    "y = data['price']"
   ]
  },
  {
   "cell_type": "code",
   "execution_count": 44,
   "id": "3f9df418",
   "metadata": {},
   "outputs": [],
   "source": [
    "X_train, X_test, y_train, y_test = train_test_split(X, y, test_size=0.15, random_state=25)"
   ]
  },
  {
   "cell_type": "code",
   "execution_count": 45,
   "id": "ce390494",
   "metadata": {},
   "outputs": [
    {
     "data": {
      "text/plain": [
       "(1233, 7)"
      ]
     },
     "execution_count": 45,
     "metadata": {},
     "output_type": "execute_result"
    }
   ],
   "source": [
    "X_train.shape"
   ]
  },
  {
   "cell_type": "code",
   "execution_count": null,
   "id": "31d5ab63",
   "metadata": {},
   "outputs": [],
   "source": []
  },
  {
   "cell_type": "markdown",
   "id": "702ddf1d",
   "metadata": {},
   "source": [
    "#### Encode Categorical features"
   ]
  },
  {
   "cell_type": "code",
   "execution_count": 46,
   "id": "abcbc804",
   "metadata": {},
   "outputs": [],
   "source": [
    "# function to create dummy variables for categorical features\n",
    "def dummy_creation(df, columns_list, drop_first=True):\n",
    "    \"\"\"\n",
    "    This function encode all categorical features in the dataset,\n",
    "    drop_first is set to true to prevent the dummy variable trap, and \n",
    "    each newly created features are renamed and separated with a '-'.\n",
    "    \n",
    "    The function then drops the initial categorical feature from the dataset entirely.\n",
    "    concats the new dummy variables with the orignal dataset and returns a new dataframe.\n",
    "    \"\"\"\n",
    "    df_dummies = []\n",
    "    for col in columns_list:\n",
    "        df_dummies.append(pd.get_dummies(df[col], prefix = col, drop_first=drop_first, prefix_sep = '-'))\n",
    "    df_dummies = pd.concat(df_dummies, axis = 1)\n",
    "    df = pd.concat([df, df_dummies], axis = 1)\n",
    "    df.drop(columns_list, axis=1,inplace = True)\n",
    "    return df"
   ]
  },
  {
   "cell_type": "code",
   "execution_count": 47,
   "id": "2263e1bd",
   "metadata": {},
   "outputs": [],
   "source": [
    "X_train = dummy_creation(X_train, X_train.select_dtypes(include='object').columns.to_list())"
   ]
  },
  {
   "cell_type": "code",
   "execution_count": 48,
   "id": "d46a6554",
   "metadata": {},
   "outputs": [],
   "source": [
    "## Apply to test data\n",
    "X_test = dummy_creation(X_test, X_test.select_dtypes(include='object').columns.to_list())"
   ]
  },
  {
   "cell_type": "code",
   "execution_count": 49,
   "id": "aaa5c0dd",
   "metadata": {},
   "outputs": [
    {
     "data": {
      "text/plain": [
       "(1233, 13)"
      ]
     },
     "execution_count": 49,
     "metadata": {},
     "output_type": "execute_result"
    }
   ],
   "source": [
    "X_train.shape"
   ]
  },
  {
   "cell_type": "code",
   "execution_count": 50,
   "id": "fa43de35",
   "metadata": {},
   "outputs": [
    {
     "data": {
      "text/plain": [
       "(218, 13)"
      ]
     },
     "execution_count": 50,
     "metadata": {},
     "output_type": "execute_result"
    }
   ],
   "source": [
    "X_test.shape"
   ]
  },
  {
   "cell_type": "markdown",
   "id": "6749e5ef",
   "metadata": {},
   "source": [
    "#### Feature Selection"
   ]
  },
  {
   "cell_type": "code",
   "execution_count": 51,
   "id": "b14cf362",
   "metadata": {},
   "outputs": [],
   "source": [
    "from sklearn.feature_selection import mutual_info_regression, SelectPercentile"
   ]
  },
  {
   "cell_type": "code",
   "execution_count": null,
   "id": "cc03a662",
   "metadata": {},
   "outputs": [],
   "source": []
  },
  {
   "cell_type": "code",
   "execution_count": 52,
   "id": "44c52108",
   "metadata": {},
   "outputs": [
    {
     "data": {
      "text/html": [
       "<div>\n",
       "<style scoped>\n",
       "    .dataframe tbody tr th:only-of-type {\n",
       "        vertical-align: middle;\n",
       "    }\n",
       "\n",
       "    .dataframe tbody tr th {\n",
       "        vertical-align: top;\n",
       "    }\n",
       "\n",
       "    .dataframe thead th {\n",
       "        text-align: right;\n",
       "    }\n",
       "</style>\n",
       "<table border=\"1\" class=\"dataframe\">\n",
       "  <thead>\n",
       "    <tr style=\"text-align: right;\">\n",
       "      <th></th>\n",
       "      <th>0</th>\n",
       "    </tr>\n",
       "  </thead>\n",
       "  <tbody>\n",
       "    <tr>\n",
       "      <th>year</th>\n",
       "      <td>0.615666</td>\n",
       "    </tr>\n",
       "    <tr>\n",
       "      <th>odometer</th>\n",
       "      <td>0.263847</td>\n",
       "    </tr>\n",
       "    <tr>\n",
       "      <th>isimported-Locally used</th>\n",
       "      <td>0.140017</td>\n",
       "    </tr>\n",
       "    <tr>\n",
       "      <th>fuel-petrol</th>\n",
       "      <td>0.047103</td>\n",
       "    </tr>\n",
       "    <tr>\n",
       "      <th>location-Lagos</th>\n",
       "      <td>0.043513</td>\n",
       "    </tr>\n",
       "    <tr>\n",
       "      <th>isimported-New</th>\n",
       "      <td>0.039193</td>\n",
       "    </tr>\n",
       "    <tr>\n",
       "      <th>location-Others</th>\n",
       "      <td>0.037157</td>\n",
       "    </tr>\n",
       "    <tr>\n",
       "      <th>location-Ogun</th>\n",
       "      <td>0.037020</td>\n",
       "    </tr>\n",
       "    <tr>\n",
       "      <th>engine-8-cylinder(V8)</th>\n",
       "      <td>0.030446</td>\n",
       "    </tr>\n",
       "    <tr>\n",
       "      <th>engine-Others</th>\n",
       "      <td>0.023023</td>\n",
       "    </tr>\n",
       "    <tr>\n",
       "      <th>transmission-manual</th>\n",
       "      <td>0.011692</td>\n",
       "    </tr>\n",
       "    <tr>\n",
       "      <th>engine-6-cylinder(I6)</th>\n",
       "      <td>0.000000</td>\n",
       "    </tr>\n",
       "    <tr>\n",
       "      <th>engine-6-cylinder(V6)</th>\n",
       "      <td>0.000000</td>\n",
       "    </tr>\n",
       "  </tbody>\n",
       "</table>\n",
       "</div>"
      ],
      "text/plain": [
       "                                0\n",
       "year                     0.615666\n",
       "odometer                 0.263847\n",
       "isimported-Locally used  0.140017\n",
       "fuel-petrol              0.047103\n",
       "location-Lagos           0.043513\n",
       "isimported-New           0.039193\n",
       "location-Others          0.037157\n",
       "location-Ogun            0.037020\n",
       "engine-8-cylinder(V8)    0.030446\n",
       "engine-Others            0.023023\n",
       "transmission-manual      0.011692\n",
       "engine-6-cylinder(I6)    0.000000\n",
       "engine-6-cylinder(V6)    0.000000"
      ]
     },
     "execution_count": 52,
     "metadata": {},
     "output_type": "execute_result"
    }
   ],
   "source": [
    "output = mutual_info_regression(X_train, y_train)\n",
    "output = pd.Series(output)\n",
    "output.index = X_train.columns\n",
    "pd.DataFrame(output.sort_values(ascending=False))"
   ]
  },
  {
   "cell_type": "code",
   "execution_count": 53,
   "id": "f6075774",
   "metadata": {},
   "outputs": [],
   "source": [
    "def feature_importance_rank(X_train, y_train):\n",
    "    '''\n",
    "    This function displays features in order of predicting power to the target variable\n",
    "    Uses mutual_info_regression in its computation. \n",
    "    '''\n",
    "    output = mutual_info_regression(X_train, y_train)\n",
    "    output = pd.Series(output)\n",
    "    output.index = X_train.columns\n",
    "    \n",
    "    #Sorting features in order of importance or prediction power\n",
    "    display_rank = output.sort_values(ascending=False).plot.bar(figsize=(12,6));\n",
    "    return display_rank"
   ]
  },
  {
   "cell_type": "code",
   "execution_count": 54,
   "id": "1e7edd9a",
   "metadata": {
    "scrolled": false
   },
   "outputs": [
    {
     "data": {
      "text/plain": [
       "<AxesSubplot:>"
      ]
     },
     "execution_count": 54,
     "metadata": {},
     "output_type": "execute_result"
    },
    {
     "data": {
      "image/png": "[encoded data removed]",
      "text/plain": [
       "<Figure size 864x432 with 1 Axes>"
      ]
     },
     "metadata": {
      "needs_background": "light"
     },
     "output_type": "display_data"
    }
   ],
   "source": [
    "feature_importance_rank(X_train, y_train)"
   ]
  },
  {
   "cell_type": "code",
   "execution_count": 55,
   "id": "222545ec",
   "metadata": {},
   "outputs": [],
   "source": [
    "def feat_selection(X_train, y_train, percentile=80):\n",
    "    '''   \n",
    "    This function returns a list of features based on the specified percentile.\n",
    "\n",
    "    To use::Provide the independent features and target feature and a preferred percentile.\n",
    "    Depending on percentile, a list of features based on mutual information and predicting power to the \n",
    "    target feature is returned.\n",
    "\n",
    "    percentile = Default(80)\n",
    "    '''\n",
    "    select_top = SelectPercentile(mutual_info_regression, percentile=percentile)\n",
    "    select_top.fit(X_train, y_train)\n",
    "    selected_features = X_train.columns[select_top.get_support()]\n",
    "    selected_features = selected_features.to_list()\n",
    "    return selected_features"
   ]
  },
  {
   "cell_type": "code",
   "execution_count": 56,
   "id": "be15db19",
   "metadata": {},
   "outputs": [
    {
     "data": {
      "text/plain": [
       "['odometer',\n",
       " 'year',\n",
       " 'location-Lagos',\n",
       " 'isimported-Locally used',\n",
       " 'isimported-New ',\n",
       " 'engine-6-cylinder(I6)',\n",
       " 'engine-6-cylinder(V6)',\n",
       " 'engine-8-cylinder(V8)',\n",
       " 'transmission-manual',\n",
       " 'fuel-petrol']"
      ]
     },
     "execution_count": 56,
     "metadata": {},
     "output_type": "execute_result"
    }
   ],
   "source": [
    "selected_features = feat_selection(X_train, y_train)\n",
    "selected_features"
   ]
  },
  {
   "cell_type": "markdown",
   "id": "c9349680",
   "metadata": {},
   "source": [
    "#### Check for correlation"
   ]
  },
  {
   "cell_type": "code",
   "execution_count": 57,
   "id": "11d969aa",
   "metadata": {},
   "outputs": [],
   "source": [
    "# Check for correlation in the training dataset\n",
    "\n",
    "def get_correlated(data, threshold):\n",
    "    '''\n",
    "    This function checks for correlation between features and returns features that highly correlated.\n",
    "\n",
    "    '''\n",
    "    cols = set()\n",
    "    corrmat = data.corr()\n",
    "    for i in range(len(corrmat.columns)):\n",
    "        for j in range(i):\n",
    "            if corrmat.iloc[i,j] > threshold:\n",
    "                colname = corrmat.columns[i]\n",
    "                cols.add(colname)\n",
    "    return cols"
   ]
  },
  {
   "cell_type": "code",
   "execution_count": 58,
   "id": "a5841987",
   "metadata": {},
   "outputs": [
    {
     "data": {
      "text/plain": [
       "set()"
      ]
     },
     "execution_count": 58,
     "metadata": {},
     "output_type": "execute_result"
    }
   ],
   "source": [
    "get_correlated(num_data, 0.90)"
   ]
  },
  {
   "cell_type": "code",
   "execution_count": 59,
   "id": "ce69ef06",
   "metadata": {},
   "outputs": [],
   "source": [
    "## Drop correllated features"
   ]
  },
  {
   "cell_type": "code",
   "execution_count": null,
   "id": "57cf1799",
   "metadata": {},
   "outputs": [],
   "source": []
  },
  {
   "cell_type": "code",
   "execution_count": 60,
   "id": "74c2c868",
   "metadata": {},
   "outputs": [],
   "source": [
    "# model with the relevant features\n",
    "X_train = X_train[selected_features]\n",
    "X_test = X_test[selected_features]"
   ]
  },
  {
   "cell_type": "markdown",
   "id": "01f8c197",
   "metadata": {},
   "source": [
    "### Modeling"
   ]
  },
  {
   "cell_type": "code",
   "execution_count": 61,
   "id": "c11156aa",
   "metadata": {
    "scrolled": true
   },
   "outputs": [],
   "source": [
    "#!pip install xgboost"
   ]
  },
  {
   "cell_type": "code",
   "execution_count": 62,
   "id": "c9194b73",
   "metadata": {},
   "outputs": [],
   "source": [
    "from sklearn.neighbors import KNeighborsRegressor\n",
    "from sklearn.linear_model import LinearRegression\n",
    "from sklearn.ensemble import AdaBoostRegressor, BaggingRegressor, ExtraTreesRegressor, RandomForestRegressor, GradientBoostingRegressor\n",
    "from sklearn.tree import DecisionTreeRegressor\n",
    "from xgboost import XGBRegressor\n",
    "from sklearn.preprocessing import StandardScaler, MinMaxScaler\n",
    "from sklearn.model_selection import cross_val_score, RandomizedSearchCV, GridSearchCV\n",
    "from sklearn.metrics import mean_absolute_error, mean_squared_error, r2_score"
   ]
  },
  {
   "cell_type": "code",
   "execution_count": null,
   "id": "037d5c0b",
   "metadata": {},
   "outputs": [],
   "source": [
    "sc = StandardScaler()\n",
    "sc.fit_transform(X_train)"
   ]
  },
  {
   "cell_type": "code",
   "execution_count": 63,
   "id": "928b4911",
   "metadata": {},
   "outputs": [],
   "source": [
    "# create a function to perform feature scaling because some algorithms need this prior to fitting.\n",
    "\n",
    "def feature_scaling(X_train, X_test):                           \n",
    "    std_scale = StandardScaler()\n",
    "    X_train = std_scale.fit_transform(X_train)\n",
    "    X_test= std_scale.transform(X_test)\n",
    "    return X_train, X_test"
   ]
  },
  {
   "cell_type": "code",
   "execution_count": 64,
   "id": "bb2b3a68",
   "metadata": {},
   "outputs": [],
   "source": [
    "# Normalize the dataset to prevent bias\n",
    "X_train, X_test = feature_scaling(X_train, X_test)"
   ]
  },
  {
   "cell_type": "code",
   "execution_count": 65,
   "id": "9e82b508",
   "metadata": {},
   "outputs": [],
   "source": [
    "### Instantiate all imported regression algorithms to select the best one to fit to the dataset\n",
    "\n",
    "regression_algorithms = []\n",
    "\n",
    "regression_algorithms.append(('K Neighbor Regressor', KNeighborsRegressor()))\n",
    "regression_algorithms.append(('Linear Regression', LinearRegression()))\n",
    "regression_algorithms.append(('Ada Boost Reg', AdaBoostRegressor()))\n",
    "regression_algorithms.append(('Bagging Regressor', BaggingRegressor()))\n",
    "regression_algorithms.append(('Extra Tree Regressor', ExtraTreesRegressor()))\n",
    "regression_algorithms.append(('Random Forest', RandomForestRegressor()))\n",
    "regression_algorithms.append(('Decision Tree', DecisionTreeRegressor()))\n",
    "regression_algorithms.append(('Gradient Boost Reg', GradientBoostingRegressor()))\n",
    "regression_algorithms.append(('XGBoost Reg', XGBRegressor()))"
   ]
  },
  {
   "cell_type": "code",
   "execution_count": 66,
   "id": "097f003f",
   "metadata": {},
   "outputs": [],
   "source": [
    "def select_best_algo(algorithms, X, y, cv=10, scoring='r2'):   ## neg_mean_squared_error, r2\n",
    "    '''\n",
    "    This function helps select the best algorithm that fits in well with the provided data.\n",
    "    It expects a list of algorithms to provided, it then iterative run through each algorithm computing a mean score\n",
    "    based on the provided scoring metric.\n",
    "    \n",
    "    This method is quite optimal as it uses cross_val_score to estimate mean score.\n",
    "    The data is splitted into number of partions provided and estimates based on the provided scoring metrics.\n",
    "    \n",
    "    cv:: cross validation default value - 10\n",
    "    scoring:: scoring default value - r2; this is because it is easy to compute and interpret.\n",
    "    \n",
    "    A dataframe of the result is returned, showing the rank of the algorithm based on their mean score.\n",
    "    '''   \n",
    "    best_algo = {}\n",
    "\n",
    "    for algorithm in algorithms:\n",
    "        \n",
    "        if scoring =='r2':\n",
    "            mean_cv_score = cross_val_score(algorithm[1], X, y, cv=cv, scoring=scoring).mean()\n",
    "        else:\n",
    "            mean_cv_score = np.sqrt(-cross_val_score(algorithm[1], X, y, cv=cv, scoring=scoring)).mean()\n",
    "        \n",
    "        best_algo.setdefault('Algorithms',[]).append(algorithm[0])\n",
    "        best_algo.setdefault('Mean_cv_score',[]).append(mean_cv_score)\n",
    "        \n",
    "    result = pd.DataFrame(best_algo).sort_values(by='Mean_cv_score', ascending=False, ignore_index=True)\n",
    "    \n",
    "    return result"
   ]
  },
  {
   "cell_type": "code",
   "execution_count": 67,
   "id": "9be7b292",
   "metadata": {
    "scrolled": true
   },
   "outputs": [
    {
     "data": {
      "text/html": [
       "<div>\n",
       "<style scoped>\n",
       "    .dataframe tbody tr th:only-of-type {\n",
       "        vertical-align: middle;\n",
       "    }\n",
       "\n",
       "    .dataframe tbody tr th {\n",
       "        vertical-align: top;\n",
       "    }\n",
       "\n",
       "    .dataframe thead th {\n",
       "        text-align: right;\n",
       "    }\n",
       "</style>\n",
       "<table border=\"1\" class=\"dataframe\">\n",
       "  <thead>\n",
       "    <tr style=\"text-align: right;\">\n",
       "      <th></th>\n",
       "      <th>Algorithms</th>\n",
       "      <th>Mean_cv_score</th>\n",
       "    </tr>\n",
       "  </thead>\n",
       "  <tbody>\n",
       "    <tr>\n",
       "      <th>0</th>\n",
       "      <td>Gradient Boost Reg</td>\n",
       "      <td>0.747668</td>\n",
       "    </tr>\n",
       "    <tr>\n",
       "      <th>1</th>\n",
       "      <td>Random Forest</td>\n",
       "      <td>0.694412</td>\n",
       "    </tr>\n",
       "    <tr>\n",
       "      <th>2</th>\n",
       "      <td>Bagging Regressor</td>\n",
       "      <td>0.678646</td>\n",
       "    </tr>\n",
       "    <tr>\n",
       "      <th>3</th>\n",
       "      <td>XGBoost Reg</td>\n",
       "      <td>0.656131</td>\n",
       "    </tr>\n",
       "    <tr>\n",
       "      <th>4</th>\n",
       "      <td>Ada Boost Reg</td>\n",
       "      <td>0.629381</td>\n",
       "    </tr>\n",
       "    <tr>\n",
       "      <th>5</th>\n",
       "      <td>Extra Tree Regressor</td>\n",
       "      <td>0.626055</td>\n",
       "    </tr>\n",
       "    <tr>\n",
       "      <th>6</th>\n",
       "      <td>K Neighbor Regressor</td>\n",
       "      <td>0.610300</td>\n",
       "    </tr>\n",
       "    <tr>\n",
       "      <th>7</th>\n",
       "      <td>Decision Tree</td>\n",
       "      <td>0.512434</td>\n",
       "    </tr>\n",
       "    <tr>\n",
       "      <th>8</th>\n",
       "      <td>Linear Regression</td>\n",
       "      <td>0.423638</td>\n",
       "    </tr>\n",
       "  </tbody>\n",
       "</table>\n",
       "</div>"
      ],
      "text/plain": [
       "             Algorithms  Mean_cv_score\n",
       "0    Gradient Boost Reg       0.747668\n",
       "1         Random Forest       0.694412\n",
       "2     Bagging Regressor       0.678646\n",
       "3           XGBoost Reg       0.656131\n",
       "4         Ada Boost Reg       0.629381\n",
       "5  Extra Tree Regressor       0.626055\n",
       "6  K Neighbor Regressor       0.610300\n",
       "7         Decision Tree       0.512434\n",
       "8     Linear Regression       0.423638"
      ]
     },
     "execution_count": 67,
     "metadata": {},
     "output_type": "execute_result"
    }
   ],
   "source": [
    "select_best_algo(regression_algorithms, X_train, y_train)"
   ]
  },
  {
   "cell_type": "markdown",
   "id": "4d2395ac",
   "metadata": {},
   "source": [
    "Note that the main purpose of cross validation is to prevent overfitting. However, it is also very good in selecting algorithms that fit well with the data."
   ]
  },
  {
   "cell_type": "markdown",
   "id": "d533e86b",
   "metadata": {},
   "source": [
    "### Hyperparameter Tuning"
   ]
  },
  {
   "cell_type": "markdown",
   "id": "97927c06",
   "metadata": {},
   "source": [
    "#### GridSearch"
   ]
  },
  {
   "cell_type": "code",
   "execution_count": 68,
   "id": "2771d462",
   "metadata": {},
   "outputs": [],
   "source": [
    "learning_rate = [0.001,0.01,0.1]\n",
    "n_estimators = range(100, 1100, 100)                             \n",
    "criterion =  ['friedman_mse', 'mse']"
   ]
  },
  {
   "cell_type": "code",
   "execution_count": 69,
   "id": "d0eac4d3",
   "metadata": {},
   "outputs": [
    {
     "data": {
      "text/plain": [
       "{'learning_rate': [0.001, 0.01, 0.1],\n",
       " 'n_estimators': range(100, 1100, 100),\n",
       " 'criterion': ['friedman_mse', 'mse']}"
      ]
     },
     "execution_count": 69,
     "metadata": {},
     "output_type": "execute_result"
    }
   ],
   "source": [
    "## Tune Parameters for Gradient Boost \n",
    "\n",
    "param_grid = dict(\n",
    "    learning_rate = learning_rate,\n",
    "    n_estimators = n_estimators,\n",
    "    criterion = criterion\n",
    ")\n",
    "param_grid"
   ]
  },
  {
   "cell_type": "code",
   "execution_count": 70,
   "id": "a5457cab",
   "metadata": {},
   "outputs": [],
   "source": [
    "grid = GridSearchCV(GradientBoostingRegressor(), param_grid, cv=10, scoring='r2')"
   ]
  },
  {
   "cell_type": "code",
   "execution_count": 71,
   "id": "a801bd27",
   "metadata": {},
   "outputs": [
    {
     "data": {
      "text/plain": [
       "GridSearchCV(cv=10, estimator=GradientBoostingRegressor(),\n",
       "             param_grid={'criterion': ['friedman_mse', 'mse'],\n",
       "                         'learning_rate': [0.001, 0.01, 0.1],\n",
       "                         'n_estimators': range(100, 1100, 100)},\n",
       "             scoring='r2')"
      ]
     },
     "execution_count": 71,
     "metadata": {},
     "output_type": "execute_result"
    }
   ],
   "source": [
    "grid.fit(X_train, y_train)"
   ]
  },
  {
   "cell_type": "code",
   "execution_count": 72,
   "id": "0908b627",
   "metadata": {},
   "outputs": [
    {
     "name": "stdout",
     "output_type": "stream",
     "text": [
      "Best Score: 0.7517130504713787\n",
      "Best Parameters: {'criterion': 'mse', 'learning_rate': 0.01, 'n_estimators': 700}\n"
     ]
    }
   ],
   "source": [
    "print('Best Score:',grid.best_score_)\n",
    "print('Best Parameters:',grid.best_params_)"
   ]
  },
  {
   "cell_type": "code",
   "execution_count": 73,
   "id": "58aa225b",
   "metadata": {
    "scrolled": false
   },
   "outputs": [
    {
     "data": {
      "text/html": [
       "<div>\n",
       "<style scoped>\n",
       "    .dataframe tbody tr th:only-of-type {\n",
       "        vertical-align: middle;\n",
       "    }\n",
       "\n",
       "    .dataframe tbody tr th {\n",
       "        vertical-align: top;\n",
       "    }\n",
       "\n",
       "    .dataframe thead th {\n",
       "        text-align: right;\n",
       "    }\n",
       "</style>\n",
       "<table border=\"1\" class=\"dataframe\">\n",
       "  <thead>\n",
       "    <tr style=\"text-align: right;\">\n",
       "      <th></th>\n",
       "      <th>mean_fit_time</th>\n",
       "      <th>std_fit_time</th>\n",
       "      <th>mean_score_time</th>\n",
       "      <th>std_score_time</th>\n",
       "      <th>param_criterion</th>\n",
       "      <th>param_learning_rate</th>\n",
       "      <th>param_n_estimators</th>\n",
       "      <th>params</th>\n",
       "      <th>split0_test_score</th>\n",
       "      <th>split1_test_score</th>\n",
       "      <th>split2_test_score</th>\n",
       "      <th>split3_test_score</th>\n",
       "      <th>split4_test_score</th>\n",
       "      <th>split5_test_score</th>\n",
       "      <th>split6_test_score</th>\n",
       "      <th>split7_test_score</th>\n",
       "      <th>split8_test_score</th>\n",
       "      <th>split9_test_score</th>\n",
       "      <th>mean_test_score</th>\n",
       "      <th>std_test_score</th>\n",
       "      <th>rank_test_score</th>\n",
       "    </tr>\n",
       "  </thead>\n",
       "  <tbody>\n",
       "    <tr>\n",
       "      <th>0</th>\n",
       "      <td>0.392448</td>\n",
       "      <td>0.004971</td>\n",
       "      <td>0.001882</td>\n",
       "      <td>0.002033</td>\n",
       "      <td>mse</td>\n",
       "      <td>0.01</td>\n",
       "      <td>700</td>\n",
       "      <td>{'criterion': 'mse', 'learning_rate': 0.01, 'n...</td>\n",
       "      <td>0.710284</td>\n",
       "      <td>0.687653</td>\n",
       "      <td>0.782645</td>\n",
       "      <td>0.792365</td>\n",
       "      <td>0.751469</td>\n",
       "      <td>0.780273</td>\n",
       "      <td>0.800211</td>\n",
       "      <td>0.748156</td>\n",
       "      <td>0.710488</td>\n",
       "      <td>0.753587</td>\n",
       "      <td>0.751713</td>\n",
       "      <td>0.036487</td>\n",
       "      <td>1</td>\n",
       "    </tr>\n",
       "    <tr>\n",
       "      <th>1</th>\n",
       "      <td>0.449757</td>\n",
       "      <td>0.003955</td>\n",
       "      <td>0.001764</td>\n",
       "      <td>0.001731</td>\n",
       "      <td>friedman_mse</td>\n",
       "      <td>0.01</td>\n",
       "      <td>800</td>\n",
       "      <td>{'criterion': 'friedman_mse', 'learning_rate':...</td>\n",
       "      <td>0.712890</td>\n",
       "      <td>0.687310</td>\n",
       "      <td>0.781314</td>\n",
       "      <td>0.794897</td>\n",
       "      <td>0.752407</td>\n",
       "      <td>0.779482</td>\n",
       "      <td>0.798399</td>\n",
       "      <td>0.747318</td>\n",
       "      <td>0.708078</td>\n",
       "      <td>0.754630</td>\n",
       "      <td>0.751673</td>\n",
       "      <td>0.036440</td>\n",
       "      <td>2</td>\n",
       "    </tr>\n",
       "    <tr>\n",
       "      <th>2</th>\n",
       "      <td>0.446773</td>\n",
       "      <td>0.002560</td>\n",
       "      <td>0.001581</td>\n",
       "      <td>0.001802</td>\n",
       "      <td>mse</td>\n",
       "      <td>0.01</td>\n",
       "      <td>800</td>\n",
       "      <td>{'criterion': 'mse', 'learning_rate': 0.01, 'n...</td>\n",
       "      <td>0.712887</td>\n",
       "      <td>0.686974</td>\n",
       "      <td>0.781314</td>\n",
       "      <td>0.794976</td>\n",
       "      <td>0.752633</td>\n",
       "      <td>0.779482</td>\n",
       "      <td>0.798399</td>\n",
       "      <td>0.747157</td>\n",
       "      <td>0.708078</td>\n",
       "      <td>0.754630</td>\n",
       "      <td>0.751653</td>\n",
       "      <td>0.036512</td>\n",
       "      <td>3</td>\n",
       "    </tr>\n",
       "    <tr>\n",
       "      <th>3</th>\n",
       "      <td>0.392767</td>\n",
       "      <td>0.004672</td>\n",
       "      <td>0.001794</td>\n",
       "      <td>0.002388</td>\n",
       "      <td>friedman_mse</td>\n",
       "      <td>0.01</td>\n",
       "      <td>700</td>\n",
       "      <td>{'criterion': 'friedman_mse', 'learning_rate':...</td>\n",
       "      <td>0.710285</td>\n",
       "      <td>0.687367</td>\n",
       "      <td>0.782645</td>\n",
       "      <td>0.792383</td>\n",
       "      <td>0.751121</td>\n",
       "      <td>0.780273</td>\n",
       "      <td>0.800211</td>\n",
       "      <td>0.747888</td>\n",
       "      <td>0.710488</td>\n",
       "      <td>0.753587</td>\n",
       "      <td>0.751625</td>\n",
       "      <td>0.036542</td>\n",
       "      <td>4</td>\n",
       "    </tr>\n",
       "    <tr>\n",
       "      <th>4</th>\n",
       "      <td>0.501287</td>\n",
       "      <td>0.002751</td>\n",
       "      <td>0.003107</td>\n",
       "      <td>0.003446</td>\n",
       "      <td>mse</td>\n",
       "      <td>0.01</td>\n",
       "      <td>900</td>\n",
       "      <td>{'criterion': 'mse', 'learning_rate': 0.01, 'n...</td>\n",
       "      <td>0.713110</td>\n",
       "      <td>0.686837</td>\n",
       "      <td>0.780543</td>\n",
       "      <td>0.793026</td>\n",
       "      <td>0.752326</td>\n",
       "      <td>0.781331</td>\n",
       "      <td>0.791420</td>\n",
       "      <td>0.746626</td>\n",
       "      <td>0.705836</td>\n",
       "      <td>0.756021</td>\n",
       "      <td>0.750708</td>\n",
       "      <td>0.035819</td>\n",
       "      <td>5</td>\n",
       "    </tr>\n",
       "  </tbody>\n",
       "</table>\n",
       "</div>"
      ],
      "text/plain": [
       "   mean_fit_time  std_fit_time  mean_score_time  std_score_time  \\\n",
       "0       0.392448      0.004971         0.001882        0.002033   \n",
       "1       0.449757      0.003955         0.001764        0.001731   \n",
       "2       0.446773      0.002560         0.001581        0.001802   \n",
       "3       0.392767      0.004672         0.001794        0.002388   \n",
       "4       0.501287      0.002751         0.003107        0.003446   \n",
       "\n",
       "  param_criterion param_learning_rate param_n_estimators  \\\n",
       "0             mse                0.01                700   \n",
       "1    friedman_mse                0.01                800   \n",
       "2             mse                0.01                800   \n",
       "3    friedman_mse                0.01                700   \n",
       "4             mse                0.01                900   \n",
       "\n",
       "                                              params  split0_test_score  \\\n",
       "0  {'criterion': 'mse', 'learning_rate': 0.01, 'n...           0.710284   \n",
       "1  {'criterion': 'friedman_mse', 'learning_rate':...           0.712890   \n",
       "2  {'criterion': 'mse', 'learning_rate': 0.01, 'n...           0.712887   \n",
       "3  {'criterion': 'friedman_mse', 'learning_rate':...           0.710285   \n",
       "4  {'criterion': 'mse', 'learning_rate': 0.01, 'n...           0.713110   \n",
       "\n",
       "   split1_test_score  split2_test_score  split3_test_score  split4_test_score  \\\n",
       "0           0.687653           0.782645           0.792365           0.751469   \n",
       "1           0.687310           0.781314           0.794897           0.752407   \n",
       "2           0.686974           0.781314           0.794976           0.752633   \n",
       "3           0.687367           0.782645           0.792383           0.751121   \n",
       "4           0.686837           0.780543           0.793026           0.752326   \n",
       "\n",
       "   split5_test_score  split6_test_score  split7_test_score  split8_test_score  \\\n",
       "0           0.780273           0.800211           0.748156           0.710488   \n",
       "1           0.779482           0.798399           0.747318           0.708078   \n",
       "2           0.779482           0.798399           0.747157           0.708078   \n",
       "3           0.780273           0.800211           0.747888           0.710488   \n",
       "4           0.781331           0.791420           0.746626           0.705836   \n",
       "\n",
       "   split9_test_score  mean_test_score  std_test_score  rank_test_score  \n",
       "0           0.753587         0.751713        0.036487                1  \n",
       "1           0.754630         0.751673        0.036440                2  \n",
       "2           0.754630         0.751653        0.036512                3  \n",
       "3           0.753587         0.751625        0.036542                4  \n",
       "4           0.756021         0.750708        0.035819                5  "
      ]
     },
     "execution_count": 73,
     "metadata": {},
     "output_type": "execute_result"
    }
   ],
   "source": [
    "grid_result = pd.DataFrame(grid.cv_results_)\n",
    "grid_result.sort_values(by='rank_test_score', ascending=True, ignore_index=True).head()"
   ]
  },
  {
   "cell_type": "code",
   "execution_count": 74,
   "id": "b26b95cf",
   "metadata": {},
   "outputs": [
    {
     "data": {
      "text/plain": [
       "<AxesSubplot:xlabel='rank_test_score', ylabel='mean_test_score'>"
      ]
     },
     "execution_count": 74,
     "metadata": {},
     "output_type": "execute_result"
    },
    {
     "data": {
      "image/png": "[encoded data removed]",
      "text/plain": [
       "<Figure size 432x288 with 1 Axes>"
      ]
     },
     "metadata": {
      "needs_background": "light"
     },
     "output_type": "display_data"
    }
   ],
   "source": [
    "sns.lineplot(x=grid_result['rank_test_score'], y=grid_result['mean_test_score'], hue = grid_result['param_criterion'])"
   ]
  },
  {
   "cell_type": "markdown",
   "id": "da5d3744",
   "metadata": {},
   "source": [
    "#### Randomized Search"
   ]
  },
  {
   "cell_type": "code",
   "execution_count": 75,
   "id": "46131d05",
   "metadata": {},
   "outputs": [
    {
     "data": {
      "text/plain": [
       "{'learning_rate': [0.001, 0.01, 0.1],\n",
       " 'n_estimators': range(100, 1100, 100),\n",
       " 'criterion': ['friedman_mse', 'mse']}"
      ]
     },
     "execution_count": 75,
     "metadata": {},
     "output_type": "execute_result"
    }
   ],
   "source": [
    "param_distributions = dict(\n",
    "    learning_rate = learning_rate,\n",
    "    n_estimators = n_estimators,\n",
    "    criterion = criterion\n",
    ")\n",
    "param_distributions"
   ]
  },
  {
   "cell_type": "code",
   "execution_count": 76,
   "id": "5ababfee",
   "metadata": {},
   "outputs": [],
   "source": [
    "rand = RandomizedSearchCV(GradientBoostingRegressor(), param_distributions, cv=10, scoring='r2', random_state=10)"
   ]
  },
  {
   "cell_type": "code",
   "execution_count": 77,
   "id": "7afc3c82",
   "metadata": {},
   "outputs": [
    {
     "data": {
      "text/plain": [
       "RandomizedSearchCV(cv=10, estimator=GradientBoostingRegressor(),\n",
       "                   param_distributions={'criterion': ['friedman_mse', 'mse'],\n",
       "                                        'learning_rate': [0.001, 0.01, 0.1],\n",
       "                                        'n_estimators': range(100, 1100, 100)},\n",
       "                   random_state=10, scoring='r2')"
      ]
     },
     "execution_count": 77,
     "metadata": {},
     "output_type": "execute_result"
    }
   ],
   "source": [
    "rand.fit(X_train, y_train)"
   ]
  },
  {
   "cell_type": "code",
   "execution_count": 78,
   "id": "6dc6bb61",
   "metadata": {},
   "outputs": [
    {
     "name": "stdout",
     "output_type": "stream",
     "text": [
      "Best Score: 0.7516955999294713\n",
      "Best Parameters: {'n_estimators': 700, 'learning_rate': 0.01, 'criterion': 'mse'}\n"
     ]
    }
   ],
   "source": [
    "print('Best Score:',rand.best_score_)\n",
    "print('Best Parameters:',rand.best_params_)"
   ]
  },
  {
   "cell_type": "code",
   "execution_count": 79,
   "id": "fd165704",
   "metadata": {},
   "outputs": [
    {
     "data": {
      "text/html": [
       "<div>\n",
       "<style scoped>\n",
       "    .dataframe tbody tr th:only-of-type {\n",
       "        vertical-align: middle;\n",
       "    }\n",
       "\n",
       "    .dataframe tbody tr th {\n",
       "        vertical-align: top;\n",
       "    }\n",
       "\n",
       "    .dataframe thead th {\n",
       "        text-align: right;\n",
       "    }\n",
       "</style>\n",
       "<table border=\"1\" class=\"dataframe\">\n",
       "  <thead>\n",
       "    <tr style=\"text-align: right;\">\n",
       "      <th></th>\n",
       "      <th>mean_fit_time</th>\n",
       "      <th>std_fit_time</th>\n",
       "      <th>mean_score_time</th>\n",
       "      <th>std_score_time</th>\n",
       "      <th>param_n_estimators</th>\n",
       "      <th>param_learning_rate</th>\n",
       "      <th>param_criterion</th>\n",
       "      <th>params</th>\n",
       "      <th>split0_test_score</th>\n",
       "      <th>split1_test_score</th>\n",
       "      <th>split2_test_score</th>\n",
       "      <th>split3_test_score</th>\n",
       "      <th>split4_test_score</th>\n",
       "      <th>split5_test_score</th>\n",
       "      <th>split6_test_score</th>\n",
       "      <th>split7_test_score</th>\n",
       "      <th>split8_test_score</th>\n",
       "      <th>split9_test_score</th>\n",
       "      <th>mean_test_score</th>\n",
       "      <th>std_test_score</th>\n",
       "      <th>rank_test_score</th>\n",
       "    </tr>\n",
       "  </thead>\n",
       "  <tbody>\n",
       "    <tr>\n",
       "      <th>0</th>\n",
       "      <td>0.391169</td>\n",
       "      <td>0.003354</td>\n",
       "      <td>0.001399</td>\n",
       "      <td>0.002358</td>\n",
       "      <td>700</td>\n",
       "      <td>0.01</td>\n",
       "      <td>mse</td>\n",
       "      <td>{'n_estimators': 700, 'learning_rate': 0.01, '...</td>\n",
       "      <td>0.710284</td>\n",
       "      <td>0.687472</td>\n",
       "      <td>0.782645</td>\n",
       "      <td>0.792228</td>\n",
       "      <td>0.751349</td>\n",
       "      <td>0.780273</td>\n",
       "      <td>0.800211</td>\n",
       "      <td>0.748419</td>\n",
       "      <td>0.710488</td>\n",
       "      <td>0.753587</td>\n",
       "      <td>0.751696</td>\n",
       "      <td>0.036501</td>\n",
       "      <td>1</td>\n",
       "    </tr>\n",
       "    <tr>\n",
       "      <th>1</th>\n",
       "      <td>0.447140</td>\n",
       "      <td>0.003908</td>\n",
       "      <td>0.002486</td>\n",
       "      <td>0.003242</td>\n",
       "      <td>800</td>\n",
       "      <td>0.01</td>\n",
       "      <td>friedman_mse</td>\n",
       "      <td>{'n_estimators': 800, 'learning_rate': 0.01, '...</td>\n",
       "      <td>0.712889</td>\n",
       "      <td>0.687173</td>\n",
       "      <td>0.781314</td>\n",
       "      <td>0.794855</td>\n",
       "      <td>0.752513</td>\n",
       "      <td>0.779482</td>\n",
       "      <td>0.798399</td>\n",
       "      <td>0.747144</td>\n",
       "      <td>0.708078</td>\n",
       "      <td>0.754630</td>\n",
       "      <td>0.751648</td>\n",
       "      <td>0.036462</td>\n",
       "      <td>2</td>\n",
       "    </tr>\n",
       "    <tr>\n",
       "      <th>2</th>\n",
       "      <td>0.112147</td>\n",
       "      <td>0.002117</td>\n",
       "      <td>0.001451</td>\n",
       "      <td>0.002208</td>\n",
       "      <td>200</td>\n",
       "      <td>0.1</td>\n",
       "      <td>friedman_mse</td>\n",
       "      <td>{'n_estimators': 200, 'learning_rate': 0.1, 'c...</td>\n",
       "      <td>0.695834</td>\n",
       "      <td>0.676943</td>\n",
       "      <td>0.781105</td>\n",
       "      <td>0.738867</td>\n",
       "      <td>0.743204</td>\n",
       "      <td>0.762896</td>\n",
       "      <td>0.773206</td>\n",
       "      <td>0.734909</td>\n",
       "      <td>0.676496</td>\n",
       "      <td>0.766040</td>\n",
       "      <td>0.734950</td>\n",
       "      <td>0.037063</td>\n",
       "      <td>3</td>\n",
       "    </tr>\n",
       "    <tr>\n",
       "      <th>3</th>\n",
       "      <td>0.226076</td>\n",
       "      <td>0.004286</td>\n",
       "      <td>0.000590</td>\n",
       "      <td>0.000973</td>\n",
       "      <td>400</td>\n",
       "      <td>0.1</td>\n",
       "      <td>friedman_mse</td>\n",
       "      <td>{'n_estimators': 400, 'learning_rate': 0.1, 'c...</td>\n",
       "      <td>0.673235</td>\n",
       "      <td>0.653765</td>\n",
       "      <td>0.764572</td>\n",
       "      <td>0.702645</td>\n",
       "      <td>0.716769</td>\n",
       "      <td>0.712198</td>\n",
       "      <td>0.759215</td>\n",
       "      <td>0.701673</td>\n",
       "      <td>0.629511</td>\n",
       "      <td>0.760361</td>\n",
       "      <td>0.707394</td>\n",
       "      <td>0.043629</td>\n",
       "      <td>4</td>\n",
       "    </tr>\n",
       "    <tr>\n",
       "      <th>4</th>\n",
       "      <td>0.392508</td>\n",
       "      <td>0.003372</td>\n",
       "      <td>0.001744</td>\n",
       "      <td>0.001342</td>\n",
       "      <td>700</td>\n",
       "      <td>0.1</td>\n",
       "      <td>friedman_mse</td>\n",
       "      <td>{'n_estimators': 700, 'learning_rate': 0.1, 'c...</td>\n",
       "      <td>0.607655</td>\n",
       "      <td>0.629902</td>\n",
       "      <td>0.746793</td>\n",
       "      <td>0.678816</td>\n",
       "      <td>0.621399</td>\n",
       "      <td>0.662686</td>\n",
       "      <td>0.731518</td>\n",
       "      <td>0.681684</td>\n",
       "      <td>0.564729</td>\n",
       "      <td>0.752626</td>\n",
       "      <td>0.667781</td>\n",
       "      <td>0.059721</td>\n",
       "      <td>5</td>\n",
       "    </tr>\n",
       "  </tbody>\n",
       "</table>\n",
       "</div>"
      ],
      "text/plain": [
       "   mean_fit_time  std_fit_time  mean_score_time  std_score_time  \\\n",
       "0       0.391169      0.003354         0.001399        0.002358   \n",
       "1       0.447140      0.003908         0.002486        0.003242   \n",
       "2       0.112147      0.002117         0.001451        0.002208   \n",
       "3       0.226076      0.004286         0.000590        0.000973   \n",
       "4       0.392508      0.003372         0.001744        0.001342   \n",
       "\n",
       "  param_n_estimators param_learning_rate param_criterion  \\\n",
       "0                700                0.01             mse   \n",
       "1                800                0.01    friedman_mse   \n",
       "2                200                 0.1    friedman_mse   \n",
       "3                400                 0.1    friedman_mse   \n",
       "4                700                 0.1    friedman_mse   \n",
       "\n",
       "                                              params  split0_test_score  \\\n",
       "0  {'n_estimators': 700, 'learning_rate': 0.01, '...           0.710284   \n",
       "1  {'n_estimators': 800, 'learning_rate': 0.01, '...           0.712889   \n",
       "2  {'n_estimators': 200, 'learning_rate': 0.1, 'c...           0.695834   \n",
       "3  {'n_estimators': 400, 'learning_rate': 0.1, 'c...           0.673235   \n",
       "4  {'n_estimators': 700, 'learning_rate': 0.1, 'c...           0.607655   \n",
       "\n",
       "   split1_test_score  split2_test_score  split3_test_score  split4_test_score  \\\n",
       "0           0.687472           0.782645           0.792228           0.751349   \n",
       "1           0.687173           0.781314           0.794855           0.752513   \n",
       "2           0.676943           0.781105           0.738867           0.743204   \n",
       "3           0.653765           0.764572           0.702645           0.716769   \n",
       "4           0.629902           0.746793           0.678816           0.621399   \n",
       "\n",
       "   split5_test_score  split6_test_score  split7_test_score  split8_test_score  \\\n",
       "0           0.780273           0.800211           0.748419           0.710488   \n",
       "1           0.779482           0.798399           0.747144           0.708078   \n",
       "2           0.762896           0.773206           0.734909           0.676496   \n",
       "3           0.712198           0.759215           0.701673           0.629511   \n",
       "4           0.662686           0.731518           0.681684           0.564729   \n",
       "\n",
       "   split9_test_score  mean_test_score  std_test_score  rank_test_score  \n",
       "0           0.753587         0.751696        0.036501                1  \n",
       "1           0.754630         0.751648        0.036462                2  \n",
       "2           0.766040         0.734950        0.037063                3  \n",
       "3           0.760361         0.707394        0.043629                4  \n",
       "4           0.752626         0.667781        0.059721                5  "
      ]
     },
     "execution_count": 79,
     "metadata": {},
     "output_type": "execute_result"
    }
   ],
   "source": [
    "rand_result = pd.DataFrame(rand.cv_results_)\n",
    "rand_result.sort_values(by='rank_test_score', ascending=True, ignore_index=True).head()"
   ]
  },
  {
   "cell_type": "code",
   "execution_count": null,
   "id": "185cc179",
   "metadata": {},
   "outputs": [],
   "source": []
  },
  {
   "cell_type": "markdown",
   "id": "b859a57e",
   "metadata": {},
   "source": [
    "We then train the model with the best parameters from the hyperparameter tuning exercise"
   ]
  },
  {
   "cell_type": "code",
   "execution_count": 87,
   "id": "32fd9ce2",
   "metadata": {},
   "outputs": [
    {
     "data": {
      "text/plain": [
       "GradientBoostingRegressor(criterion='mse', learning_rate=0.01, n_estimators=700)"
      ]
     },
     "execution_count": 87,
     "metadata": {},
     "output_type": "execute_result"
    }
   ],
   "source": [
    "# Knowing what parameters gives us the best performance, \n",
    "# we train a gradient boost with them, setting the rest of the parameters as default\n",
    "\n",
    "car_price_gbr = GradientBoostingRegressor(n_estimators=700,learning_rate=0.01,criterion='mse')\n",
    "car_price_gbr.fit(X_train, y_train)"
   ]
  },
  {
   "cell_type": "code",
   "execution_count": null,
   "id": "0bd247e1",
   "metadata": {},
   "outputs": [],
   "source": []
  },
  {
   "cell_type": "markdown",
   "id": "2c1b2db3",
   "metadata": {},
   "source": [
    "#### Prediction and Evaluation"
   ]
  },
  {
   "cell_type": "code",
   "execution_count": 88,
   "id": "1cbcd451",
   "metadata": {},
   "outputs": [],
   "source": [
    "y_pred = car_price_gbr.predict(X_test)"
   ]
  },
  {
   "cell_type": "code",
   "execution_count": 89,
   "id": "4647b27b",
   "metadata": {},
   "outputs": [
    {
     "name": "stdout",
     "output_type": "stream",
     "text": [
      "R2: 0.7743064589227778\n",
      "MAE: 1546260.1338955383\n",
      "RMSE: 2269624.560119273\n"
     ]
    }
   ],
   "source": [
    "print('R2:',r2_score(y_test, y_pred))\n",
    "print('MAE:',mean_absolute_error(y_test, y_pred))\n",
    "print('RMSE:',np.sqrt(mean_squared_error(y_test, y_pred)))"
   ]
  },
  {
   "cell_type": "code",
   "execution_count": 90,
   "id": "d5ff21c5",
   "metadata": {},
   "outputs": [],
   "source": [
    "y_pred = y_pred.astype(np.int32)"
   ]
  },
  {
   "cell_type": "code",
   "execution_count": 91,
   "id": "16c2e7db",
   "metadata": {},
   "outputs": [
    {
     "data": {
      "text/html": [
       "<div>\n",
       "<style scoped>\n",
       "    .dataframe tbody tr th:only-of-type {\n",
       "        vertical-align: middle;\n",
       "    }\n",
       "\n",
       "    .dataframe tbody tr th {\n",
       "        vertical-align: top;\n",
       "    }\n",
       "\n",
       "    .dataframe thead th {\n",
       "        text-align: right;\n",
       "    }\n",
       "</style>\n",
       "<table border=\"1\" class=\"dataframe\">\n",
       "  <thead>\n",
       "    <tr style=\"text-align: right;\">\n",
       "      <th></th>\n",
       "      <th>Actual</th>\n",
       "      <th>Predictions</th>\n",
       "    </tr>\n",
       "  </thead>\n",
       "  <tbody>\n",
       "    <tr>\n",
       "      <th>203</th>\n",
       "      <td>1615000.0</td>\n",
       "      <td>1509210</td>\n",
       "    </tr>\n",
       "    <tr>\n",
       "      <th>1334</th>\n",
       "      <td>2655000.0</td>\n",
       "      <td>4112464</td>\n",
       "    </tr>\n",
       "    <tr>\n",
       "      <th>141</th>\n",
       "      <td>2535000.0</td>\n",
       "      <td>3381955</td>\n",
       "    </tr>\n",
       "    <tr>\n",
       "      <th>961</th>\n",
       "      <td>2655000.0</td>\n",
       "      <td>3051103</td>\n",
       "    </tr>\n",
       "    <tr>\n",
       "      <th>749</th>\n",
       "      <td>12615000.0</td>\n",
       "      <td>5145646</td>\n",
       "    </tr>\n",
       "  </tbody>\n",
       "</table>\n",
       "</div>"
      ],
      "text/plain": [
       "          Actual  Predictions\n",
       "203    1615000.0      1509210\n",
       "1334   2655000.0      4112464\n",
       "141    2535000.0      3381955\n",
       "961    2655000.0      3051103\n",
       "749   12615000.0      5145646"
      ]
     },
     "execution_count": 91,
     "metadata": {},
     "output_type": "execute_result"
    }
   ],
   "source": [
    "pd.DataFrame({'Actual':y_test, 'Predictions':y_pred}).head()"
   ]
  },
  {
   "cell_type": "code",
   "execution_count": null,
   "id": "b01e9d3a",
   "metadata": {},
   "outputs": [],
   "source": []
  },
  {
   "cell_type": "code",
   "execution_count": null,
   "id": "d83f9ac7",
   "metadata": {},
   "outputs": [],
   "source": []
  },
  {
   "cell_type": "code",
   "execution_count": 92,
   "id": "8160cb4c",
   "metadata": {},
   "outputs": [],
   "source": [
    "def make_predictions(\n",
    "    odometer,\n",
    "    year,\n",
    "    location_Lagos,\n",
    "    location_Ogun,\n",
    "    isimported_Locally_used,\n",
    "    isimported_New,\n",
    "    engine_8_cylinder_V8,\n",
    "    engine_Others,\n",
    "    transmission_manual,\n",
    "    fuel_petrol\n",
    "):\n",
    "        \n",
    "    valid = {0, 1}\n",
    "    for i in [location_Lagos,location_Ogun,isimported_Locally_used,isimported_New,engine_8_cylinder_V8,engine_Others,transmission_manual,fuel_petrol]:\n",
    "        if i not in valid:\n",
    "            raise ValueError(\"Must be one of %r.\" % valid)\n",
    "    \n",
    "        if location_Lagos == location_Ogun:\n",
    "            raise ValueError(\"Can't have the same value\")\n",
    "            \n",
    "        if isimported_Locally_used == isimported_New:\n",
    "            raise ValueError(\"Can't have the same value\")\n",
    "        \n",
    "        if engine_8_cylinder_V8 == engine_Others:\n",
    "            raise ValueError(\"Can't have the same value\")\n",
    "            \n",
    "    normalized = sc.transform([[\n",
    "        odometer,\n",
    "        year,\n",
    "        location_Lagos,\n",
    "        location_Ogun,\n",
    "        isimported_Locally_used,\n",
    "        isimported_New,\n",
    "        engine_8_cylinder_V8,\n",
    "        engine_Others,\n",
    "        transmission_manual,\n",
    "        fuel_petrol]]\n",
    "    )\n",
    "            \n",
    "    result = car_price_gbr.predict(normalized)\n",
    "    \n",
    "    return ('Price:', round(result[0],2))\n",
    "    "
   ]
  },
  {
   "cell_type": "code",
   "execution_count": 93,
   "id": "23f10a20",
   "metadata": {},
   "outputs": [
    {
     "data": {
      "text/plain": [
       "('Price:', 11610394.04)"
      ]
     },
     "execution_count": 93,
     "metadata": {},
     "output_type": "execute_result"
    }
   ],
   "source": [
    "make_predictions(\n",
    "    odometer=60127.0,\n",
    "    year=2009,\n",
    "    location_Lagos=1,\n",
    "    location_Ogun=0,\n",
    "    isimported_Locally_used=1,\n",
    "    isimported_New=0,\n",
    "    engine_8_cylinder_V8=0,\n",
    "    engine_Others=1,\n",
    "    transmission_manual=0,\n",
    "    fuel_petrol=1\n",
    ")"
   ]
  },
  {
   "cell_type": "code",
   "execution_count": null,
   "id": "c1511b42",
   "metadata": {},
   "outputs": [],
   "source": []
  },
  {
   "cell_type": "code",
   "execution_count": null,
   "id": "8ab4196d",
   "metadata": {},
   "outputs": [],
   "source": []
  },
  {
   "cell_type": "code",
   "execution_count": null,
   "id": "f23822c7",
   "metadata": {},
   "outputs": [],
   "source": []
  },
  {
   "cell_type": "code",
   "execution_count": null,
   "id": "3b78a8c1",
   "metadata": {},
   "outputs": [],
   "source": []
  },
  {
   "cell_type": "code",
   "execution_count": null,
   "id": "145c288b",
   "metadata": {},
   "outputs": [],
   "source": []
  }
 ],
 "metadata": {
  "kernelspec": {
   "display_name": "Python 3",
   "language": "python",
   "name": "python3"
  },
  "language_info": {
   "codemirror_mode": {
    "name": "ipython",
    "version": 3
   },
   "file_extension": ".py",
   "mimetype": "text/x-python",
   "name": "python",
   "nbconvert_exporter": "python",
   "pygments_lexer": "ipython3",
   "version": "3.8.8"
  }
 },
 "nbformat": 4,
 "nbformat_minor": 5
}
